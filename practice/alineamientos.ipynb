{
 "cells": [
  {
   "cell_type": "markdown",
   "id": "758c8d17",
   "metadata": {},
   "source": [
    "# Primero tipo de funciones para alineamiento"
   ]
  },
  {
   "cell_type": "code",
   "execution_count": 1,
   "id": "ebb385bc",
   "metadata": {},
   "outputs": [
    {
     "name": "stderr",
     "output_type": "stream",
     "text": [
      "c:\\Users\\Lucas\\miniconda3\\envs\\bioinfo\\lib\\site-packages\\Bio\\pairwise2.py:278: BiopythonDeprecationWarning: Bio.pairwise2 has been deprecated, and we intend to remove it in a future release of Biopython. As an alternative, please consider using Bio.Align.PairwiseAligner as a replacement, and contact the Biopython developers if you still need the Bio.pairwise2 module.\n",
      "  warnings.warn(\n"
     ]
    }
   ],
   "source": [
    "# import the necessary packages\n",
    "from Bio import pairwise2\n",
    "from Bio.pairwise2 import format_alignment"
   ]
  },
  {
   "cell_type": "code",
   "execution_count": null,
   "id": "96f7ca4d",
   "metadata": {},
   "outputs": [],
   "source": [
    "# Secuencias de ejemplo\n",
    "seq1_1t = \"ACCGT\"\n",
    "seq2_1t = \"ACG\""
   ]
  },
  {
   "cell_type": "markdown",
   "id": "155fad2e",
   "metadata": {},
   "source": [
    "## Alineamiento global sin penalizaciones"
   ]
  },
  {
   "cell_type": "code",
   "execution_count": 6,
   "id": "3e563136",
   "metadata": {},
   "outputs": [
    {
     "name": "stdout",
     "output_type": "stream",
     "text": [
      "🔁 Alineamiento GLOBAL (Needleman-Wunsch):\n",
      "ACCGT\n",
      "| || \n",
      "A-CG-\n",
      "  Score=3\n",
      "\n",
      "ACCGT\n",
      "|| | \n",
      "AC-G-\n",
      "  Score=3\n",
      "\n"
     ]
    }
   ],
   "source": [
    "print(\"🔁 Alineamiento GLOBAL (Needleman-Wunsch):\")\n",
    "\n",
    "# Algoritmo de alineamiento global\n",
    "\n",
    "alignments_global = pairwise2.align.globalxx(seq1_1t, seq2_1t)\n",
    "\n",
    "for a in alignments_global:\n",
    "    print(format_alignment(*a))"
   ]
  },
  {
   "cell_type": "code",
   "execution_count": 14,
   "id": "fb826b0d",
   "metadata": {},
   "outputs": [
    {
     "name": "stdout",
     "output_type": "stream",
     "text": [
      "Tipo de dato entregado: <class 'list'>\n",
      "\n",
      "Cantidad de alineamientos: 2\n",
      "\n",
      "Tipo de dato de cada elemento de la lista: <class 'Bio.pairwise2.Alignment'>\n",
      "\n",
      "Primer alineamiento: Alignment(seqA='ACCGT', seqB='A-CG-', score=3.0, start=0, end=5)\n",
      "Segundo alineamiento: Alignment(seqA='ACCGT', seqB='AC-G-', score=3.0, start=0, end=5)\n"
     ]
    }
   ],
   "source": [
    "print(f\"Tipo de dato entregado: {type(alignments_global)}\\n\")\n",
    "print(f\"Cantidad de alineamientos: {len(alignments_global)}\\n\")\n",
    "\n",
    "print(f\"Tipo de dato de cada elemento de la lista: {type(alignments_global[0])}\\n\")\n",
    "\n",
    "print(f\"Primer alineamiento: {alignments_global[0]}\")\n",
    "print(f\"Segundo alineamiento: {alignments_global[1]}\")"
   ]
  },
  {
   "cell_type": "markdown",
   "id": "eb6da5f9",
   "metadata": {},
   "source": [
    "## Alineamiento local sin penalizaciones"
   ]
  },
  {
   "cell_type": "code",
   "execution_count": 7,
   "id": "aba1f221",
   "metadata": {},
   "outputs": [
    {
     "name": "stdout",
     "output_type": "stream",
     "text": [
      "\n",
      "🔍 Alineamiento LOCAL (Smith-Waterman):\n",
      "1 ACCG\n",
      "  | ||\n",
      "1 A-CG\n",
      "  Score=3\n",
      "\n",
      "1 ACCG\n",
      "  || |\n",
      "1 AC-G\n",
      "  Score=3\n",
      "\n"
     ]
    }
   ],
   "source": [
    "print(\"\\n🔍 Alineamiento LOCAL (Smith-Waterman):\")\n",
    "\n",
    "# Algoritmo de alineamiento local\n",
    "\n",
    "alignments_local = pairwise2.align.localxx(seq1_1t, seq2_1t)\n",
    "\n",
    "for a in alignments_local:\n",
    "    print(format_alignment(*a))"
   ]
  },
  {
   "cell_type": "code",
   "execution_count": 15,
   "id": "c2fcb235",
   "metadata": {},
   "outputs": [
    {
     "name": "stdout",
     "output_type": "stream",
     "text": [
      "Tipo de dato entregado: <class 'list'>\n",
      "\n",
      "Cantidad de alineamientos: 2\n",
      "\n",
      "Tipo de dato de cada elemento de la lista: <class 'Bio.pairwise2.Alignment'>\n",
      "\n",
      "Primer alineamiento: Alignment(seqA='ACCGT', seqB='A-CG-', score=3.0, start=0, end=4)\n",
      "Segundo alineamiento: Alignment(seqA='ACCGT', seqB='AC-G-', score=3.0, start=0, end=4)\n"
     ]
    }
   ],
   "source": [
    "print(f\"Tipo de dato entregado: {type(alignments_local)}\\n\")\n",
    "print(f\"Cantidad de alineamientos: {len(alignments_local)}\\n\")\n",
    "\n",
    "print(f\"Tipo de dato de cada elemento de la lista: {type(alignments_local[0])}\\n\")\n",
    "\n",
    "print(f\"Primer alineamiento: {alignments_local[0]}\")\n",
    "print(f\"Segundo alineamiento: {alignments_local[1]}\")"
   ]
  },
  {
   "cell_type": "markdown",
   "id": "e9c62119",
   "metadata": {},
   "source": [
    "# Segundo tipo de funciones para alineamiento"
   ]
  },
  {
   "cell_type": "code",
   "execution_count": 17,
   "id": "8e58b659",
   "metadata": {},
   "outputs": [],
   "source": [
    "# Secuencias de ejemplo\n",
    "seq1_2t = \"----ACCGT\"\n",
    "seq2_2t = \"ACG\""
   ]
  },
  {
   "cell_type": "code",
   "execution_count": 19,
   "id": "2f8c2442",
   "metadata": {},
   "outputs": [
    {
     "name": "stdout",
     "output_type": "stream",
     "text": [
      "🔓 Alineamiento GLOBAL END-FREE:\n",
      "----ACCGT\n",
      "||||| || \n",
      "----A-CG-\n",
      "  Score=4\n",
      "\n",
      "----ACCGT\n",
      "|||||| | \n",
      "----AC-G-\n",
      "  Score=4\n",
      "\n"
     ]
    }
   ],
   "source": [
    "print(\"🔓 Alineamiento GLOBAL END-FREE:\")\n",
    "alignments = pairwise2.align.globalms(\n",
    "    seq1_2t, seq2_2t,\n",
    "    2,     # match\n",
    "    -1,    # mismatch\n",
    "    -2,    # gap open\n",
    "    -0.5,  # gap extend\n",
    "    penalize_end_gaps=(False, False)  # NO penalizar gaps al inicio ni final\n",
    ")\n",
    "\n",
    "for a in alignments:\n",
    "    print(format_alignment(*a))"
   ]
  },
  {
   "cell_type": "markdown",
   "id": "4bdf6a17",
   "metadata": {},
   "source": [
    "# Tercer tipo de funciones para alineamiento"
   ]
  },
  {
   "cell_type": "code",
   "execution_count": 20,
   "id": "50e0539d",
   "metadata": {},
   "outputs": [],
   "source": [
    "from Bio import Align"
   ]
  },
  {
   "cell_type": "code",
   "execution_count": 22,
   "id": "1b527594",
   "metadata": {},
   "outputs": [],
   "source": [
    "# Secuencias de ejemplo\n",
    "seq1_t3 = \"ACCGT\"\n",
    "seq2_t3 = \"CG\"\n",
    "\n",
    "# Parámetros de alineamiento\n",
    "match = 2\n",
    "mismatch = -1\n",
    "gap_open = -2\n",
    "gap_extend = -0.5"
   ]
  },
  {
   "cell_type": "code",
   "execution_count": 24,
   "id": "397e333a",
   "metadata": {},
   "outputs": [
    {
     "name": "stdout",
     "output_type": "stream",
     "text": [
      "\n",
      "🚀 4. Alineamiento con PairwiseAligner (global end-free moderno):\n",
      "target            0 ACCGT 5\n",
      "                  0 --||- 5\n",
      "query             0 --CG- 2\n",
      "\n",
      "Score: -0.5\n"
     ]
    }
   ],
   "source": [
    "print(\"\\n🚀 Alineamiento con PairwiseAligner (global end-free moderno):\")\n",
    "aligner = Align.PairwiseAligner()\n",
    "\n",
    "aligner.mode = 'global'\n",
    "aligner.match_score = match\n",
    "aligner.mismatch_score = mismatch\n",
    "aligner.open_gap_score = gap_open\n",
    "aligner.extend_gap_score = gap_extend\n",
    "#aligner.penalize_end_gaps = False\n",
    "\n",
    "alignments_modern = aligner.align(seq1_t3, seq2_t3)\n",
    "for alignment in alignments_modern:\n",
    "    print(alignment)\n",
    "    print(\"Score:\", alignment.score)"
   ]
  },
  {
   "cell_type": "code",
   "execution_count": 33,
   "id": "0283bb2d",
   "metadata": {},
   "outputs": [
    {
     "name": "stdout",
     "output_type": "stream",
     "text": [
      "Tipo de dato entregado: <class 'Bio.Align.PairwiseAlignments'>\n",
      "\n",
      "Cantidad de alineamientos: 1\n",
      "\n",
      "Tipo de dato de cada elemento de la lista: <class 'Bio.Align.Alignment'>\n",
      "\n",
      "['ACCGT', 'CG']\n",
      "\n",
      "-0.5\n",
      "\n",
      "target            0 ACCGT 5\n",
      "                  0 --||- 5\n",
      "query             0 --CG- 2\n",
      "\n",
      "\n"
     ]
    }
   ],
   "source": [
    "print(f\"Tipo de dato entregado: {type(alignments_modern)}\\n\")\n",
    "print(f\"Cantidad de alineamientos: {len(alignments_modern)}\\n\")\n",
    "\n",
    "print(f\"Tipo de dato de cada elemento de la lista: {type(alignments_modern[0])}\\n\")\n",
    "\n",
    "print(f\"{alignments_modern.sequences}\\n\")\n",
    "print(f\"{alignments_modern.score}\\n\")\n",
    "print(f\"{alignments_modern._alignment}\\n\")"
   ]
  },
  {
   "cell_type": "markdown",
   "id": "ba32a3d2",
   "metadata": {},
   "source": [
    "# Cuarto tipo de funciones para alineamiento"
   ]
  },
  {
   "cell_type": "code",
   "execution_count": 35,
   "id": "7407087d",
   "metadata": {},
   "outputs": [],
   "source": [
    "# Secuencias de ejemplo\n",
    "seq1_t4 = \"ACCGT\"\n",
    "seq2_t4 = \"CG\"\n",
    "\n",
    "# Parámetros comunes\n",
    "match = 2\n",
    "mismatch = -1\n",
    "gap_open = -2\n",
    "gap_extend = -0.5\n",
    "\n",
    "def mostrar_alineamientos(title, aligner):\n",
    "    print(f\"\\n🔹 {title}\")\n",
    "    alignments = aligner.align(seq1_t4, seq2_t4)\n",
    "    for alignment in alignments:\n",
    "        print(alignment)\n",
    "        print(\"Score:\", alignment.score)"
   ]
  },
  {
   "cell_type": "code",
   "execution_count": 36,
   "id": "11b3dfdb",
   "metadata": {},
   "outputs": [
    {
     "name": "stdout",
     "output_type": "stream",
     "text": [
      "\n",
      "🔹 Global clásico (penaliza todo)\n",
      "target            0 ACCGT 5\n",
      "                  0 --||- 5\n",
      "query             0 --CG- 2\n",
      "\n",
      "Score: -0.5\n"
     ]
    }
   ],
   "source": [
    "# 🔁 1. Global clásico (penaliza todo)\n",
    "aligner_global = Align.PairwiseAligner()\n",
    "aligner_global.mode = 'global'\n",
    "aligner_global.match_score = match\n",
    "aligner_global.mismatch_score = mismatch\n",
    "aligner_global.open_gap_score = gap_open\n",
    "aligner_global.extend_gap_score = gap_extend\n",
    "# Penalización normal en extremos (default)\n",
    "mostrar_alineamientos(\"Global clásico (penaliza todo)\", aligner_global)"
   ]
  },
  {
   "cell_type": "code",
   "execution_count": 37,
   "id": "a5069c75",
   "metadata": {},
   "outputs": [
    {
     "name": "stdout",
     "output_type": "stream",
     "text": [
      "\n",
      "🔹 End-Free (sin penalizar extremos)\n",
      "target            0 ACCGT 5\n",
      "                  0 --||- 5\n",
      "query             0 --CG- 2\n",
      "\n",
      "Score: 4.0\n"
     ]
    }
   ],
   "source": [
    "# 🔓 2. End-Free (no penaliza extremos)\n",
    "aligner_endfree = Align.PairwiseAligner()\n",
    "aligner_endfree.mode = 'global'\n",
    "aligner_endfree.match_score = match\n",
    "aligner_endfree.mismatch_score = mismatch\n",
    "aligner_endfree.open_gap_score = gap_open\n",
    "aligner_endfree.extend_gap_score = gap_extend\n",
    "# Desactivar penalización de extremos\n",
    "aligner_endfree.left_open_gap_score = 0\n",
    "aligner_endfree.left_extend_gap_score = 0\n",
    "aligner_endfree.right_open_gap_score = 0\n",
    "aligner_endfree.right_extend_gap_score = 0\n",
    "mostrar_alineamientos(\"End-Free (sin penalizar extremos)\", aligner_endfree)"
   ]
  },
  {
   "cell_type": "code",
   "execution_count": 38,
   "id": "12b7128d",
   "metadata": {},
   "outputs": [
    {
     "name": "stdout",
     "output_type": "stream",
     "text": [
      "\n",
      "🔹 Semi-global (no penaliza al final)\n",
      "target            0 ACCGT 5\n",
      "                  0 --||- 5\n",
      "query             0 --CG- 2\n",
      "\n",
      "Score: 1.5\n"
     ]
    }
   ],
   "source": [
    "# ↩️ 3. Semi-global (no penaliza solo al final)\n",
    "aligner_semiglobal = Align.PairwiseAligner()\n",
    "aligner_semiglobal.mode = 'global'\n",
    "aligner_semiglobal.match_score = match\n",
    "aligner_semiglobal.mismatch_score = mismatch\n",
    "aligner_semiglobal.open_gap_score = gap_open\n",
    "aligner_semiglobal.extend_gap_score = gap_extend\n",
    "# Penaliza solo el inicio\n",
    "aligner_semiglobal.left_open_gap_score = gap_open\n",
    "aligner_semiglobal.left_extend_gap_score = gap_extend\n",
    "aligner_semiglobal.right_open_gap_score = 0\n",
    "aligner_semiglobal.right_extend_gap_score = 0\n",
    "mostrar_alineamientos(\"Semi-global (no penaliza al final)\", aligner_semiglobal)"
   ]
  },
  {
   "cell_type": "code",
   "execution_count": 39,
   "id": "cdc4cb17",
   "metadata": {},
   "outputs": [
    {
     "name": "stdout",
     "output_type": "stream",
     "text": [
      "\n",
      "🔹 Local (Smith-Waterman)\n",
      "target            2 CG 4\n",
      "                  0 || 2\n",
      "query             0 CG 2\n",
      "\n",
      "Score: 4.0\n"
     ]
    }
   ],
   "source": [
    "# 🔬 4. Local (Smith-Waterman)\n",
    "aligner_local = Align.PairwiseAligner()\n",
    "aligner_local.mode = 'local'\n",
    "aligner_local.match_score = match\n",
    "aligner_local.mismatch_score = mismatch\n",
    "aligner_local.open_gap_score = gap_open\n",
    "aligner_local.extend_gap_score = gap_extend\n",
    "mostrar_alineamientos(\"Local (Smith-Waterman)\", aligner_local)"
   ]
  }
 ],
 "metadata": {
  "kernelspec": {
   "display_name": "bioinfo",
   "language": "python",
   "name": "python3"
  },
  "language_info": {
   "codemirror_mode": {
    "name": "ipython",
    "version": 3
   },
   "file_extension": ".py",
   "mimetype": "text/x-python",
   "name": "python",
   "nbconvert_exporter": "python",
   "pygments_lexer": "ipython3",
   "version": "3.9.21"
  }
 },
 "nbformat": 4,
 "nbformat_minor": 5
}
